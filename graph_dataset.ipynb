{
 "cells": [
  {
   "cell_type": "code",
   "execution_count": 3,
   "metadata": {},
   "outputs": [],
   "source": [
    "import pandas as pd"
   ]
  },
  {
   "cell_type": "code",
   "execution_count": 4,
   "metadata": {},
   "outputs": [
    {
     "name": "stderr",
     "output_type": "stream",
     "text": [
      "/usr/lib/python3/dist-packages/numpy/lib/arraysetops.py:463: FutureWarning: elementwise comparison failed; returning scalar instead, but in the future will perform elementwise comparison\n",
      "  mask |= (ar1 == a)\n",
      "/home/zambbo/.local/lib/python3.6/site-packages/IPython/core/interactiveshell.py:3072: DtypeWarning: Columns (0) have mixed types. Specify dtype option on import or set low_memory=False.\n",
      "  interactivity=interactivity, compiler=compiler, result=result)\n"
     ]
    }
   ],
   "source": [
    "benign_df = pd.read_csv('./dataset/benigns.csv', index_col = 0)\n",
    "phishing_df = pd.read_csv('./dataset/phishings.csv', index_col = 0)"
   ]
  },
  {
   "cell_type": "code",
   "execution_count": 5,
   "metadata": {},
   "outputs": [],
   "source": [
    "benign_urls = benign_df['url'].values\n",
    "phishing_urls = phishing_df['url'].values"
   ]
  },
  {
   "cell_type": "code",
   "execution_count": 6,
   "metadata": {},
   "outputs": [],
   "source": [
    "import re\n",
    "def countStartingOfDomain(urls):\n",
    "    matchPattern_http = re.compile('^http://')\n",
    "    matchPattern_https = re.compile('^https://')\n",
    "    num_of_url = len(urls)\n",
    "    num_of_http = 0\n",
    "    num_of_https = 0\n",
    "    for url in urls:\n",
    "        if type(url) != str:\n",
    "            print(url)\n",
    "            num_of_url -= 1\n",
    "            continue\n",
    "            \n",
    "        if matchPattern_http.search(url) is not None: num_of_http += 1\n",
    "        if matchPattern_https.search(url) is not None: num_of_https += 1\n",
    "    \n",
    "    return num_of_http, num_of_https, num_of_url - num_of_http - num_of_https"
   ]
  },
  {
   "cell_type": "code",
   "execution_count": 7,
   "metadata": {},
   "outputs": [
    {
     "name": "stdout",
     "output_type": "stream",
     "text": [
      "nan\n",
      "nan\n",
      "nan\n",
      "----------benign----------\n",
      "http: 1345474 https: 7061821 other: 0\n",
      "----------phishing----------\n",
      "http: 4743219 https: 2172392 other: 1800\n"
     ]
    }
   ],
   "source": [
    "benign_http_num, benign_https_num, benign_other_num = countStartingOfDomain(benign_urls)\n",
    "phishing_http_num, phishing_https_num, phishing_other_num = countStartingOfDomain(phishing_urls)\n",
    "\n",
    "print('-'*10+'benign'+'-'*10)\n",
    "print(f\"http: {benign_http_num} https: {benign_https_num} other: {benign_other_num}\")\n",
    "print('-'*10+'phishing'+'-'*10)\n",
    "print(f\"http: {phishing_http_num} https: {phishing_https_num} other: {phishing_other_num}\")"
   ]
  },
  {
   "cell_type": "code",
   "execution_count": 8,
   "metadata": {},
   "outputs": [
    {
     "name": "stdout",
     "output_type": "stream",
     "text": [
      "benign_http_portion : 0.16003649211785717, benign_https_portion : 0.8399635078821428\n",
      "phishing_http_portion : 0.6856928119494418, phishing_https_portion : 0.31404697508937957\n"
     ]
    }
   ],
   "source": [
    "benign_http_portion = benign_http_num / (benign_http_num + benign_https_num + benign_other_num)\n",
    "benign_https_portion = benign_https_num / (benign_http_num + benign_https_num + benign_other_num)\n",
    "phishing_http_portion = phishing_http_num / (phishing_http_num + phishing_https_num + phishing_other_num)\n",
    "phishing_https_portion = phishing_https_num / (phishing_http_num + phishing_https_num + phishing_other_num)\n",
    "print(f\"benign_http_portion : {benign_http_portion}, benign_https_portion : {benign_https_portion}\")\n",
    "print(f\"phishing_http_portion : {phishing_http_portion}, phishing_https_portion : {phishing_https_portion}\")"
   ]
  },
  {
   "cell_type": "code",
   "execution_count": null,
   "metadata": {},
   "outputs": [],
   "source": []
  }
 ],
 "metadata": {
  "interpreter": {
   "hash": "31f2aee4e71d21fbe5cf8b01ff0e069b9275f58929596ceb00d14d90e3e16cd6"
  },
  "kernelspec": {
   "display_name": "Python 3.6.9 64-bit",
   "language": "python",
   "name": "python3"
  },
  "language_info": {
   "codemirror_mode": {
    "name": "ipython",
    "version": 3
   },
   "file_extension": ".py",
   "mimetype": "text/x-python",
   "name": "python",
   "nbconvert_exporter": "python",
   "pygments_lexer": "ipython3",
   "version": "3.6.9"
  },
  "orig_nbformat": 4
 },
 "nbformat": 4,
 "nbformat_minor": 2
}
